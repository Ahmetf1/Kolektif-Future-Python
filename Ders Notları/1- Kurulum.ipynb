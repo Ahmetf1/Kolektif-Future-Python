{
 "cells": [
  {
   "cell_type": "markdown",
   "metadata": {},
   "source": [
    "# Kurulum"
   ]
  },
  {
   "cell_type": "markdown",
   "metadata": {},
   "source": [
    "Linkteki siteye giriniz karşınıza çıkan siyah download tuşuna basınız <br>\n",
    "https://www.anaconda.com/products/individual <br>\n",
    "Karşınıza farklı indirme linkleri çıkacaktır"
   ]
  },
  {
   "cell_type": "markdown",
   "metadata": {},
   "source": [
    "##### Mac Kullanıcıları\n",
    "- 64-Bit Graphical Installer (435 MB) indiriniz\n",
    "- indirilen dosyayı çalıştırın\n",
    "- sürdür, kabul ediyorum, yükle tarzı kutucuklara basarak kurulumu tamamlayın\n",
    "- test için terminale python yazın \"python 3.8.x\" gibi bir dönüt alıyorsanız kurulum tamamlanmıştır\n",
    "\n",
    "##### Windows Kullanıcıları\n",
    "- önce bilgisayarınız kaç bit onu öğrenin bunun için yandaki linke bakabilirsiniz https://www.webtekno.com/bilgisayarim-kac-bit-h99042.html\n",
    "- ardından bilgisayarınız hangi 64 bit ise 64 bitlik sürümü 32 bit ise 32 bitlik sürümü indirin\n",
    "- indirilen dosyayı çalıştırın\n",
    "- next\n",
    "- I agree\n",
    "- All Users \n",
    "- Kurulumu yapmak istediğiniz klasör \"next\" diyebilirsiniz. Nereyi seçtiğinizin önemi yok.\n",
    "- Her iki seçeneği de seçin ve Install tuşuna basın\n",
    "- Kurulum bittikten sonra karşınıza çıkan 2 tiki kaldırın. Finish'e basarak kurulumu tamamlayın\n",
    "- test için cmd'ye(aramaya cmd yazıp ulaşabilirsiniz) python yazın \"python 3.8.x\" gibi bir dönüt alıyorsanız kurulum tamamlanmıştır"
   ]
  },
  {
   "cell_type": "markdown",
   "metadata": {},
   "source": []
  }
 ],
 "metadata": {
  "kernelspec": {
   "display_name": "Python 3",
   "language": "python",
   "name": "python3"
  },
  "language_info": {
   "codemirror_mode": {
    "name": "ipython",
    "version": 3
   },
   "file_extension": ".py",
   "mimetype": "text/x-python",
   "name": "python",
   "nbconvert_exporter": "python",
   "pygments_lexer": "ipython3",
   "version": "3.8.3"
  }
 },
 "nbformat": 4,
 "nbformat_minor": 4
}
